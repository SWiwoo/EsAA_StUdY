{
 "cells": [
  {
   "cell_type": "markdown",
   "metadata": {},
   "source": [
    "## 12.1 datetime 오브젝트"
   ]
  },
  {
   "cell_type": "code",
   "execution_count": 1,
   "metadata": {},
   "outputs": [],
   "source": [
    "from datetime import datetime"
   ]
  },
  {
   "cell_type": "code",
   "execution_count": 3,
   "metadata": {},
   "outputs": [
    {
     "name": "stdout",
     "output_type": "stream",
     "text": [
      "2021-10-03 09:12:59.684791\n",
      "2021-10-03 09:12:59.685788\n"
     ]
    }
   ],
   "source": [
    "# now, today 메서드로 현재 시간 출력\n",
    "\n",
    "now1 = datetime.now()\n",
    "print(now1)\n",
    "\n",
    "now2 = datetime.today()\n",
    "print(now2)"
   ]
  },
  {
   "cell_type": "code",
   "execution_count": 4,
   "metadata": {},
   "outputs": [
    {
     "name": "stdout",
     "output_type": "stream",
     "text": [
      "2021-10-03 09:14:26.269634\n",
      "1970-01-01 00:00:00\n",
      "1970-12-12 13:24:34\n"
     ]
    }
   ],
   "source": [
    "# 시간 직접 입력해 datetime 오브젝트 생성\n",
    "\n",
    "t1 = datetime.now()\n",
    "t2 = datetime(1970,1,1)\n",
    "t3 = datetime(1970,12,12,13,24,34)\n",
    "\n",
    "print(t1); print(t2); print(t3)"
   ]
  },
  {
   "cell_type": "code",
   "execution_count": 5,
   "metadata": {},
   "outputs": [
    {
     "name": "stdout",
     "output_type": "stream",
     "text": [
      "18903 days, 9:14:26.269634\n",
      "<class 'datetime.timedelta'>\n",
      "-18904 days, 14:45:33.730366\n",
      "<class 'datetime.timedelta'>\n"
     ]
    }
   ],
   "source": [
    "# datetime 오브젝트로 시간 계산\n",
    "\n",
    "diff1 = t1-t2\n",
    "print(diff1); print(type(diff1))\n",
    "\n",
    "diff2 = t2-t1\n",
    "print(diff2); print(type(diff2))"
   ]
  },
  {
   "cell_type": "markdown",
   "metadata": {},
   "source": [
    "### 테슬라 주식 데이터로 시간 계산"
   ]
  },
  {
   "cell_type": "code",
   "execution_count": 2,
   "metadata": {},
   "outputs": [],
   "source": [
    "import pandas as pd\n",
    "import numpy as np\n",
    "import os\n",
    "pd.core.common.is_list_like = pd.api.types.is_list_like\n",
    "import pandas_datareader as pdr"
   ]
  },
  {
   "cell_type": "code",
   "execution_count": 17,
   "metadata": {},
   "outputs": [],
   "source": [
    "tesla = pdr.get_data_quandl('TSLA', api_key='-D8dmLPELU3dwSsfaXRz')\n",
    "tesla.to_csv('C:/Temp/tesla_stock_quandl.csv')"
   ]
  },
  {
   "cell_type": "code",
   "execution_count": 20,
   "metadata": {},
   "outputs": [
    {
     "name": "stdout",
     "output_type": "stream",
     "text": [
      "              Open    High     Low   Close      Volume  ExDividend  \\\n",
      "Date                                                                 \n",
      "2018-03-27  304.00  304.27  277.18  279.18  13696168.0         0.0   \n",
      "2018-03-26  307.34  307.59  291.36  304.18   8324639.0         0.0   \n",
      "2018-03-23  311.25  311.61  300.45  301.54   6600538.0         0.0   \n",
      "2018-03-22  313.89  318.82  308.18  309.10   4914307.0         0.0   \n",
      "2018-03-21  310.25  322.44  310.19  316.53   5927881.0         0.0   \n",
      "\n",
      "            SplitRatio  AdjOpen  AdjHigh  AdjLow  AdjClose   AdjVolume  \n",
      "Date                                                                    \n",
      "2018-03-27         1.0   304.00   304.27  277.18    279.18  13696168.0  \n",
      "2018-03-26         1.0   307.34   307.59  291.36    304.18   8324639.0  \n",
      "2018-03-23         1.0   311.25   311.61  300.45    301.54   6600538.0  \n",
      "2018-03-22         1.0   313.89   318.82  308.18    309.10   4914307.0  \n",
      "2018-03-21         1.0   310.25   322.44  310.19    316.53   5927881.0  \n"
     ]
    }
   ],
   "source": [
    "print(tesla.head())"
   ]
  },
  {
   "cell_type": "code",
   "execution_count": 3,
   "metadata": {},
   "outputs": [
    {
     "name": "stdout",
     "output_type": "stream",
     "text": [
      "<class 'pandas.core.frame.DataFrame'>\n",
      "RangeIndex: 371 entries, 0 to 370\n",
      "Data columns (total 13 columns):\n",
      " #   Column      Non-Null Count  Dtype         \n",
      "---  ------      --------------  -----         \n",
      " 0   Date        371 non-null    datetime64[ns]\n",
      " 1   Open        371 non-null    float64       \n",
      " 2   High        371 non-null    float64       \n",
      " 3   Low         371 non-null    float64       \n",
      " 4   Close       371 non-null    float64       \n",
      " 5   Volume      371 non-null    float64       \n",
      " 6   ExDividend  371 non-null    float64       \n",
      " 7   SplitRatio  371 non-null    float64       \n",
      " 8   AdjOpen     371 non-null    float64       \n",
      " 9   AdjHigh     371 non-null    float64       \n",
      " 10  AdjLow      371 non-null    float64       \n",
      " 11  AdjClose    371 non-null    float64       \n",
      " 12  AdjVolume   371 non-null    float64       \n",
      "dtypes: datetime64[ns](1), float64(12)\n",
      "memory usage: 37.8 KB\n",
      "None\n"
     ]
    }
   ],
   "source": [
    "tesla = pd.read_csv('C:/Temp/tesla_stock_quandl.csv', parse_dates=[0])\n",
    "print(tesla.info())"
   ]
  },
  {
   "cell_type": "code",
   "execution_count": 4,
   "metadata": {},
   "outputs": [
    {
     "name": "stdout",
     "output_type": "stream",
     "text": [
      "          Date    Open      High     Low   Close      Volume  ExDividend  \\\n",
      "351 2016-10-31  202.49  202.4900  195.81  197.73   4692273.0         0.0   \n",
      "352 2016-10-28  204.00  205.3200  199.83  199.97   4280141.0         0.0   \n",
      "353 2016-10-27  211.34  213.7000  201.65  204.01  13093744.0         0.0   \n",
      "354 2016-10-26  201.00  203.1900  200.10  202.24   5632841.0         0.0   \n",
      "355 2016-10-25  202.90  204.6900  201.20  202.34   2445014.0         0.0   \n",
      "356 2016-10-24  201.00  203.9452  200.25  202.76   2751562.0         0.0   \n",
      "357 2016-10-21  198.60  201.5700  197.41  200.09   2943402.0         0.0   \n",
      "358 2016-10-20  202.12  203.0000  197.05  199.10   5072877.0         0.0   \n",
      "359 2016-10-19  199.74  206.6600  198.06  203.56   6991183.0         0.0   \n",
      "360 2016-10-18  195.99  199.4700  193.26  199.10   5680475.0         0.0   \n",
      "361 2016-10-17  197.05  198.3900  192.00  193.96   4554080.0         0.0   \n",
      "362 2016-10-14  200.66  201.4300  196.30  196.51   4269850.0         0.0   \n",
      "363 2016-10-13  200.50  200.8950  197.05  200.24   2495413.0         0.0   \n",
      "364 2016-10-12  200.95  203.8800  200.42  201.51   1970689.0         0.0   \n",
      "365 2016-10-11  201.85  202.2000  198.31  200.10   2328422.0         0.0   \n",
      "366 2016-10-10  201.35  204.1400  199.66  200.95   3316297.0         0.0   \n",
      "367 2016-10-07  201.00  201.3200  195.80  196.61   3493018.0         0.0   \n",
      "368 2016-10-06  202.46  204.2099  200.21  201.00   4703402.0         0.0   \n",
      "369 2016-10-05  212.24  213.1500  208.12  208.46   1877534.0         0.0   \n",
      "370 2016-10-04  213.10  213.3200  208.82  211.41   3541481.0         0.0   \n",
      "\n",
      "     SplitRatio  AdjOpen   AdjHigh  AdjLow  AdjClose   AdjVolume  \n",
      "351         1.0   202.49  202.4900  195.81    197.73   4692273.0  \n",
      "352         1.0   204.00  205.3200  199.83    199.97   4280141.0  \n",
      "353         1.0   211.34  213.7000  201.65    204.01  13093744.0  \n",
      "354         1.0   201.00  203.1900  200.10    202.24   5632841.0  \n",
      "355         1.0   202.90  204.6900  201.20    202.34   2445014.0  \n",
      "356         1.0   201.00  203.9452  200.25    202.76   2751562.0  \n",
      "357         1.0   198.60  201.5700  197.41    200.09   2943402.0  \n",
      "358         1.0   202.12  203.0000  197.05    199.10   5072877.0  \n",
      "359         1.0   199.74  206.6600  198.06    203.56   6991183.0  \n",
      "360         1.0   195.99  199.4700  193.26    199.10   5680475.0  \n",
      "361         1.0   197.05  198.3900  192.00    193.96   4554080.0  \n",
      "362         1.0   200.66  201.4300  196.30    196.51   4269850.0  \n",
      "363         1.0   200.50  200.8950  197.05    200.24   2495413.0  \n",
      "364         1.0   200.95  203.8800  200.42    201.51   1970689.0  \n",
      "365         1.0   201.85  202.2000  198.31    200.10   2328422.0  \n",
      "366         1.0   201.35  204.1400  199.66    200.95   3316297.0  \n",
      "367         1.0   201.00  201.3200  195.80    196.61   3493018.0  \n",
      "368         1.0   202.46  204.2099  200.21    201.00   4703402.0  \n",
      "369         1.0   212.24  213.1500  208.12    208.46   1877534.0  \n",
      "370         1.0   213.10  213.3200  208.82    211.41   3541481.0  \n"
     ]
    }
   ],
   "source": [
    "print(tesla.loc[(tesla.Date.dt.year == 2016) & (tesla.Date.dt.month == 10)]) \n",
    "# 받은 tesla 자료가 2016년 10월부터의 데이터밖에 없음. \n",
    "# 책에는 2010년 6월의 데이터를 추출한 것이었지만 부득이하게 2016년 10월의 데이터를 추출함."
   ]
  },
  {
   "cell_type": "markdown",
   "metadata": {},
   "source": [
    "### DatatimeIndex"
   ]
  },
  {
   "cell_type": "code",
   "execution_count": 5,
   "metadata": {},
   "outputs": [
    {
     "name": "stdout",
     "output_type": "stream",
     "text": [
      "DatetimeIndex(['2018-03-27', '2018-03-26', '2018-03-23', '2018-03-22',\n",
      "               '2018-03-21', '2018-03-20', '2018-03-19', '2018-03-16',\n",
      "               '2018-03-15', '2018-03-14',\n",
      "               ...\n",
      "               '2016-10-17', '2016-10-14', '2016-10-13', '2016-10-12',\n",
      "               '2016-10-11', '2016-10-10', '2016-10-07', '2016-10-06',\n",
      "               '2016-10-05', '2016-10-04'],\n",
      "              dtype='datetime64[ns]', name='Date', length=371, freq=None)\n"
     ]
    }
   ],
   "source": [
    "# Date 열을 인덱스로 지정\n",
    "\n",
    "tesla.index = tesla['Date']\n",
    "print(tesla.index)"
   ]
  },
  {
   "cell_type": "code",
   "execution_count": 9,
   "metadata": {},
   "outputs": [
    {
     "name": "stdout",
     "output_type": "stream",
     "text": [
      "                 Date    Open    High       Low   Close\n",
      "Date                                                   \n",
      "2016-12-30 2016-12-30  216.30  217.50  211.6800  213.69\n",
      "2016-12-29 2016-12-29  218.56  219.20  214.1225  214.68\n",
      "2016-12-28 2016-12-28  221.53  223.80  217.2000  219.74\n",
      "2016-12-27 2016-12-27  214.88  222.25  214.4200  219.53\n",
      "2016-12-23 2016-12-23  208.00  213.45  207.7100  213.34\n"
     ]
    }
   ],
   "source": [
    "print(tesla.loc['2016'].iloc[:5,:5])"
   ]
  },
  {
   "cell_type": "code",
   "execution_count": 11,
   "metadata": {},
   "outputs": [
    {
     "name": "stdout",
     "output_type": "stream",
     "text": [
      "                 Date    Open      High     Low   Close\n",
      "Date                                                   \n",
      "2016-10-31 2016-10-31  202.49  202.4900  195.81  197.73\n",
      "2016-10-28 2016-10-28  204.00  205.3200  199.83  199.97\n",
      "2016-10-27 2016-10-27  211.34  213.7000  201.65  204.01\n",
      "2016-10-26 2016-10-26  201.00  203.1900  200.10  202.24\n",
      "2016-10-25 2016-10-25  202.90  204.6900  201.20  202.34\n",
      "2016-10-24 2016-10-24  201.00  203.9452  200.25  202.76\n",
      "2016-10-21 2016-10-21  198.60  201.5700  197.41  200.09\n",
      "2016-10-20 2016-10-20  202.12  203.0000  197.05  199.10\n",
      "2016-10-19 2016-10-19  199.74  206.6600  198.06  203.56\n",
      "2016-10-18 2016-10-18  195.99  199.4700  193.26  199.10\n",
      "2016-10-17 2016-10-17  197.05  198.3900  192.00  193.96\n",
      "2016-10-14 2016-10-14  200.66  201.4300  196.30  196.51\n",
      "2016-10-13 2016-10-13  200.50  200.8950  197.05  200.24\n",
      "2016-10-12 2016-10-12  200.95  203.8800  200.42  201.51\n",
      "2016-10-11 2016-10-11  201.85  202.2000  198.31  200.10\n",
      "2016-10-10 2016-10-10  201.35  204.1400  199.66  200.95\n",
      "2016-10-07 2016-10-07  201.00  201.3200  195.80  196.61\n",
      "2016-10-06 2016-10-06  202.46  204.2099  200.21  201.00\n",
      "2016-10-05 2016-10-05  212.24  213.1500  208.12  208.46\n",
      "2016-10-04 2016-10-04  213.10  213.3200  208.82  211.41\n"
     ]
    }
   ],
   "source": [
    "print(tesla.loc['2016-10'].iloc[:,:5])"
   ]
  },
  {
   "cell_type": "markdown",
   "metadata": {},
   "source": [
    "### 시간 간격과 인덱스 - TimedeltaIndex"
   ]
  },
  {
   "cell_type": "code",
   "execution_count": 51,
   "metadata": {},
   "outputs": [
    {
     "name": "stdout",
     "output_type": "stream",
     "text": [
      "                 Date    Open    High     Low   Close      Volume  ExDividend  \\\n",
      "Date                                                                            \n",
      "2018-03-27 2018-03-27  304.00  304.27  277.18  279.18  13696168.0         0.0   \n",
      "2018-03-26 2018-03-26  307.34  307.59  291.36  304.18   8324639.0         0.0   \n",
      "2018-03-23 2018-03-23  311.25  311.61  300.45  301.54   6600538.0         0.0   \n",
      "2018-03-22 2018-03-22  313.89  318.82  308.18  309.10   4914307.0         0.0   \n",
      "2018-03-21 2018-03-21  310.25  322.44  310.19  316.53   5927881.0         0.0   \n",
      "\n",
      "            SplitRatio  AdjOpen  AdjHigh  AdjLow  AdjClose   AdjVolume  \\\n",
      "Date                                                                     \n",
      "2018-03-27         1.0   304.00   304.27  277.18    279.18  13696168.0   \n",
      "2018-03-26         1.0   307.34   307.59  291.36    304.18   8324639.0   \n",
      "2018-03-23         1.0   311.25   311.61  300.45    301.54   6600538.0   \n",
      "2018-03-22         1.0   313.89   318.82  308.18    309.10   4914307.0   \n",
      "2018-03-21         1.0   310.25   322.44  310.19    316.53   5927881.0   \n",
      "\n",
      "           ref_date  \n",
      "Date                 \n",
      "2018-03-27 539 days  \n",
      "2018-03-26 538 days  \n",
      "2018-03-23 535 days  \n",
      "2018-03-22 534 days  \n",
      "2018-03-21 533 days  \n"
     ]
    }
   ],
   "source": [
    "tesla['ref_date'] = tesla['Date'] - tesla['Date'].min()\n",
    "print(tesla.head())"
   ]
  },
  {
   "cell_type": "code",
   "execution_count": 52,
   "metadata": {},
   "outputs": [
    {
     "name": "stdout",
     "output_type": "stream",
     "text": [
      "               Date    Open    High     Low   Close\n",
      "ref_date                                           \n",
      "539 days 2018-03-27  304.00  304.27  277.18  279.18\n",
      "538 days 2018-03-26  307.34  307.59  291.36  304.18\n",
      "535 days 2018-03-23  311.25  311.61  300.45  301.54\n",
      "534 days 2018-03-22  313.89  318.82  308.18  309.10\n",
      "533 days 2018-03-21  310.25  322.44  310.19  316.53\n"
     ]
    }
   ],
   "source": [
    "tesla.index = tesla['ref_date']\n",
    "print(tesla.iloc[:5,:5])"
   ]
  },
  {
   "cell_type": "code",
   "execution_count": 53,
   "metadata": {},
   "outputs": [
    {
     "name": "stdout",
     "output_type": "stream",
     "text": [
      "               Date    Open      High     Low   Close\n",
      "ref_date                                             \n",
      "3 days   2016-10-07  201.00  201.3200  195.80  196.61\n",
      "2 days   2016-10-06  202.46  204.2099  200.21  201.00\n",
      "1 days   2016-10-05  212.24  213.1500  208.12  208.46\n",
      "0 days   2016-10-04  213.10  213.3200  208.82  211.41\n"
     ]
    }
   ],
   "source": [
    "print(tesla['5 days':].iloc[:5,:5])"
   ]
  },
  {
   "cell_type": "markdown",
   "metadata": {},
   "source": [
    "### 시간 범위와 인덱스 - 시간 범위 생성해 인덱스로 지정하기"
   ]
  },
  {
   "cell_type": "code",
   "execution_count": 61,
   "metadata": {},
   "outputs": [
    {
     "name": "stdout",
     "output_type": "stream",
     "text": [
      "        Date  Day  Cases_Guinea  Cases_Liberia  Cases_SierraLeone\n",
      "0 2015-01-05  289        2776.0            NaN            10030.0\n",
      "1 2015-01-04  288        2775.0            NaN             9780.0\n",
      "2 2015-01-03  287        2769.0         8166.0             9722.0\n",
      "3 2015-01-02  286           NaN         8157.0                NaN\n",
      "4 2014-12-31  284        2730.0         8115.0             9633.0\n",
      "          Date  Day  Cases_Guinea  Cases_Liberia  Cases_SierraLeone\n",
      "117 2014-03-27    5         103.0            8.0                6.0\n",
      "118 2014-03-26    4          86.0            NaN                NaN\n",
      "119 2014-03-25    3          86.0            NaN                NaN\n",
      "120 2014-03-24    2          86.0            NaN                NaN\n",
      "121 2014-03-22    0          49.0            NaN                NaN\n"
     ]
    }
   ],
   "source": [
    "import pandas as pd\n",
    "import os\n",
    "ebola = pd.read_csv('https://raw.githubusercontent.com/easysIT/doit_pandas/master/data/country_timeseries.csv', parse_dates=[0])\n",
    "print(ebola.iloc[:5,:5]) # 2015-01-01 데이터가 누락됨\n",
    "print(ebola.iloc[-5:,:5]) # 2014-03-23 데이터가 누락됨"
   ]
  },
  {
   "cell_type": "code",
   "execution_count": 62,
   "metadata": {},
   "outputs": [
    {
     "name": "stdout",
     "output_type": "stream",
     "text": [
      "DatetimeIndex(['2014-12-31', '2015-01-01', '2015-01-02', '2015-01-03',\n",
      "               '2015-01-04', '2015-01-05'],\n",
      "              dtype='datetime64[ns]', freq='D')\n"
     ]
    }
   ],
   "source": [
    "head_range = pd.date_range(start='2014-12-31', end='2015-01-05')\n",
    "print(head_range)"
   ]
  },
  {
   "cell_type": "code",
   "execution_count": 63,
   "metadata": {},
   "outputs": [
    {
     "name": "stdout",
     "output_type": "stream",
     "text": [
      "                 Date  Day  Cases_Guinea  Cases_Liberia  Cases_SierraLeone\n",
      "Date                                                                      \n",
      "2015-01-05 2015-01-05  289        2776.0            NaN            10030.0\n",
      "2015-01-04 2015-01-04  288        2775.0            NaN             9780.0\n",
      "2015-01-03 2015-01-03  287        2769.0         8166.0             9722.0\n",
      "2015-01-02 2015-01-02  286           NaN         8157.0                NaN\n",
      "2014-12-31 2014-12-31  284        2730.0         8115.0             9633.0\n"
     ]
    }
   ],
   "source": [
    "ebola_5 = ebola.head()\n",
    "ebola_5.index = ebola_5['Date']\n",
    "ebola_5.reindex(head_range)\n",
    "print(ebola_5.iloc[:5,:5])"
   ]
  },
  {
   "cell_type": "code",
   "execution_count": 65,
   "metadata": {},
   "outputs": [
    {
     "name": "stdout",
     "output_type": "stream",
     "text": [
      "DatetimeIndex(['2017-01-02', '2017-01-03', '2017-01-04', '2017-01-05',\n",
      "               '2017-01-06'],\n",
      "              dtype='datetime64[ns]', freq='B')\n"
     ]
    }
   ],
   "source": [
    "# 평일만 포함시킨 DatatimeIndex\n",
    "print(pd.date_range('2017-01-01', '2017-01-07', freq='B'))"
   ]
  }
 ],
 "metadata": {
  "kernelspec": {
   "display_name": "Python 3",
   "language": "python",
   "name": "python3"
  },
  "language_info": {
   "codemirror_mode": {
    "name": "ipython",
    "version": 3
   },
   "file_extension": ".py",
   "mimetype": "text/x-python",
   "name": "python",
   "nbconvert_exporter": "python",
   "pygments_lexer": "ipython3",
   "version": "3.8.5"
  }
 },
 "nbformat": 4,
 "nbformat_minor": 4
}
