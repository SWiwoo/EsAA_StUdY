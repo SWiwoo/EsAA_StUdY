{
 "cells": [
  {
   "cell_type": "markdown",
   "metadata": {
    "id": "fbedHKJOR3Ba"
   },
   "source": [
    "# **1. 단순 선형 회귀 분석**\n",
    "전복의 나이를 예측하는 선형회귀모델을 생성하세요.\n",
    "전복의 ‘성별’, ‘키’, ‘지름’, ‘높이’, ‘전체무게’, ‘몸통무게’, ‘내장무게’, ‘껍질무게’를 입력하면 ‘껍질의 고리수’를 예측한 뒤 예측된 ‘껍질의 고리수’에 1.5를 더하면 전복의 나이가 됩니다."
   ]
  },
  {
   "cell_type": "code",
   "execution_count": 1,
   "metadata": {
    "id": "q1vwSrjeS4SR"
   },
   "outputs": [],
   "source": [
    "# 기본 모듈 불러오기\n",
    "import numpy as np\n",
    "import pandas as pd"
   ]
  },
  {
   "cell_type": "markdown",
   "metadata": {
    "id": "wX69fxAlS4pW"
   },
   "source": [
    "**1) 데이터 load 및 변형** "
   ]
  },
  {
   "cell_type": "code",
   "execution_count": 31,
   "metadata": {
    "id": "Cu0FJIAfTAsr"
   },
   "outputs": [
    {
     "name": "stdout",
     "output_type": "stream",
     "text": [
      "(4177, 9)\n"
     ]
    }
   ],
   "source": [
    "# 데이터 로드\n",
    "data = pd.read_csv(\"abalone.csv\")\n",
    "data.head()\n",
    "print(data.shape)\n",
    "\n",
    "# 성별 M은 Male, F는 Female, I는 Infant 이므로 따로 열 만들기\n",
    "for label in \"MFI\":\n",
    "    data[label] = data[\"Sex\"] == label\n",
    "data.drop('Sex', axis=1, inplace=True)"
   ]
  },
  {
   "cell_type": "markdown",
   "metadata": {
    "id": "fpAzVpf3kJku"
   },
   "source": [
    "**2) X, y 선택**\n",
    ": y는 Rings열, X는 Rings열을 제외한 나머지를 선택하되 전부 실수가 되도록 한다."
   ]
  },
  {
   "cell_type": "code",
   "execution_count": 32,
   "metadata": {
    "id": "Xlz6IKQAkQ0R"
   },
   "outputs": [],
   "source": [
    "# X,y 데이터 선택\n",
    "y = data['Rings']\n",
    "\n",
    "X = data.drop('Rings', axis=1).astype(float)"
   ]
  },
  {
   "cell_type": "markdown",
   "metadata": {
    "id": "iSHNJy43TBRt"
   },
   "source": [
    " **3) train/test set 분리**"
   ]
  },
  {
   "cell_type": "code",
   "execution_count": 34,
   "metadata": {
    "id": "thhAcD2STD9B"
   },
   "outputs": [],
   "source": [
    "# 필요한 모듈 불러오기\n",
    "from sklearn.model_selection import train_test_split"
   ]
  },
  {
   "cell_type": "code",
   "execution_count": 35,
   "metadata": {
    "id": "pnulnpP0Zbnw"
   },
   "outputs": [],
   "source": [
    "# train과 test set 분리 (train:test = 7:3 비율로)\n",
    "X_train, X_test, y_train, y_test = train_test_split(X, y, test_size=0.3, random_state=0)"
   ]
  },
  {
   "cell_type": "markdown",
   "metadata": {
    "id": "elvVID1GTEoj"
   },
   "source": [
    "**4) 선형회귀모델 생성, 모델 예측치 구하기**"
   ]
  },
  {
   "cell_type": "code",
   "execution_count": 36,
   "metadata": {
    "id": "6IchCQXzTHSj"
   },
   "outputs": [],
   "source": [
    "#필요한 모듈 불러오기\n",
    "from sklearn.linear_model import LinearRegression"
   ]
  },
  {
   "cell_type": "code",
   "execution_count": 37,
   "metadata": {
    "id": "vN-aDnzfakUR"
   },
   "outputs": [
    {
     "data": {
      "text/plain": [
       "LinearRegression()"
      ]
     },
     "execution_count": 37,
     "metadata": {},
     "output_type": "execute_result"
    }
   ],
   "source": [
    "#선형회귀모델 생성 및 훈련\n",
    "lr = LinearRegression()\n",
    "lr.fit(X_train, y_train)"
   ]
  },
  {
   "cell_type": "code",
   "execution_count": 38,
   "metadata": {
    "id": "jxxOtz2ObIq4"
   },
   "outputs": [],
   "source": [
    "# 모델 예측치 구하기\n",
    "y_pred = lr.predict(X_test)"
   ]
  },
  {
   "cell_type": "markdown",
   "metadata": {
    "id": "70GURxffTH5e"
   },
   "source": [
    "**5) 모델 평가: MSE, RMSE, R2 score, corr 구하기**"
   ]
  },
  {
   "cell_type": "code",
   "execution_count": 39,
   "metadata": {
    "id": "vZGoQGRNTJkB"
   },
   "outputs": [],
   "source": [
    "#필요한 모듈 불러오기\n",
    "from sklearn.metrics import mean_squared_error, r2_score"
   ]
  },
  {
   "cell_type": "markdown",
   "metadata": {
    "id": "Lp7yxDDilhTW"
   },
   "source": [
    "- MSE, RMSE "
   ]
  },
  {
   "cell_type": "code",
   "execution_count": 43,
   "metadata": {
    "id": "qQ3urJwYbcad"
   },
   "outputs": [
    {
     "name": "stdout",
     "output_type": "stream",
     "text": [
      "MSE: 5.004288230786483, RMSE: 2.237026649547672\n"
     ]
    }
   ],
   "source": [
    "#mse, rmse\n",
    "mse = mean_squared_error(y_test, y_pred)\n",
    "rmse = np.sqrt(mse)\n",
    "print('MSE: {}, RMSE: {}'.format(mse, rmse))"
   ]
  },
  {
   "cell_type": "markdown",
   "metadata": {
    "id": "hlcAHJ7olnRi"
   },
   "source": [
    "- R2 score"
   ]
  },
  {
   "cell_type": "code",
   "execution_count": 44,
   "metadata": {
    "id": "Srj9IlLzlpOH"
   },
   "outputs": [
    {
     "name": "stdout",
     "output_type": "stream",
     "text": [
      "R2 score: 0.5253453990298458\n"
     ]
    }
   ],
   "source": [
    "#R2 score 측정\n",
    "r2_score = r2_score(y_test, y_pred)\n",
    "print('R2 score:', r2_score)"
   ]
  },
  {
   "cell_type": "markdown",
   "metadata": {
    "id": "PYnBM6gblwks"
   },
   "source": [
    "- 회귀 절편값"
   ]
  },
  {
   "cell_type": "code",
   "execution_count": 45,
   "metadata": {
    "id": "zs5NRnEmbyCY"
   },
   "outputs": [
    {
     "name": "stdout",
     "output_type": "stream",
     "text": [
      "회귀 절편 값: -78264886627608.39\n"
     ]
    }
   ],
   "source": [
    "#회귀 절편 값\n",
    "print('회귀 절편 값:', lr.intercept_)"
   ]
  },
  {
   "cell_type": "markdown",
   "metadata": {
    "id": "dE4Fbx51lyxo"
   },
   "source": [
    "- 회귀 계수 값"
   ]
  },
  {
   "cell_type": "code",
   "execution_count": 55,
   "metadata": {
    "id": "ooGY_KnDcAsk"
   },
   "outputs": [
    {
     "name": "stdout",
     "output_type": "stream",
     "text": [
      "회귀 계수 값: [-1.12705474e-01  1.15731585e+01  7.30912360e+00  8.99480561e+00\n",
      " -1.99885032e+01 -1.06168280e+01  9.64210769e+00  7.82648866e+13\n",
      "  7.82648866e+13  7.82648866e+13]\n"
     ]
    }
   ],
   "source": [
    "#회귀 계수 값\n",
    "print('회귀 계수 값:', lr.coef_)"
   ]
  },
  {
   "cell_type": "markdown",
   "metadata": {
    "id": "dNzYzbJfl5I2"
   },
   "source": [
    "- 상관계수\n",
    "\n",
    "Hint: corr 함수 이용."
   ]
  },
  {
   "cell_type": "code",
   "execution_count": 59,
   "metadata": {
    "id": "Kx21T36vcSYC"
   },
   "outputs": [
    {
     "name": "stdout",
     "output_type": "stream",
     "text": [
      "0.7253219927579021\n"
     ]
    }
   ],
   "source": [
    "# 상관계수 구하기\n",
    "df = pd.DataFrame({'pred':y_pred, 'Y':y_test})\n",
    "cor = df['pred'].corr(df['Y'])\n",
    "print(cor)"
   ]
  }
 ],
 "metadata": {
  "colab": {
   "name": "회귀1.ipynb",
   "provenance": []
  },
  "kernelspec": {
   "display_name": "Python 3",
   "language": "python",
   "name": "python3"
  },
  "language_info": {
   "codemirror_mode": {
    "name": "ipython",
    "version": 3
   },
   "file_extension": ".py",
   "mimetype": "text/x-python",
   "name": "python",
   "nbconvert_exporter": "python",
   "pygments_lexer": "ipython3",
   "version": "3.8.5"
  }
 },
 "nbformat": 4,
 "nbformat_minor": 1
}
