{
 "cells": [
  {
   "cell_type": "markdown",
   "metadata": {
    "id": "OVjREzxqi3U1"
   },
   "source": [
    "# **1. 규제 선형 회귀 모델/ 회귀 트리**\n",
    "릿지 회귀모델 및 회귀 트리를 이용하여 전복의 나이를 예측해 보세요.\n",
    "\n",
    "전복의 ‘성별’, ‘키’, ‘지름’, ‘높이’, ‘전체무게’, ‘몸통무게’, ‘내장무게’, ‘껍질무게’를 입력하면 ‘껍질의 고리수’를 예측한 뒤 예측된 ‘껍질의 고리수’에 1.5를 더하면 전복의 나이가 됩니다."
   ]
  },
  {
   "cell_type": "code",
   "execution_count": 1,
   "metadata": {
    "id": "AdMN1y-1i_G4"
   },
   "outputs": [],
   "source": [
    "# 기본 모듈 불러오기\n",
    "import numpy as np\n",
    "import pandas as pd\n",
    "\n",
    "import warnings\n",
    "warnings.filterwarnings(action='ignore')"
   ]
  },
  {
   "cell_type": "markdown",
   "metadata": {
    "id": "fK6WkTaUjF_9"
   },
   "source": [
    "### 1) 데이터 불러오기 및 데이터 선택"
   ]
  },
  {
   "cell_type": "code",
   "execution_count": 2,
   "metadata": {
    "id": "npiatc6TjCqM"
   },
   "outputs": [],
   "source": [
    "# 데이터 로드\n",
    "data = pd.read_csv(\"abalone.csv\")\n",
    "\n",
    "# 성별 M은 Male, F는 Female, I는 Infant 이므로 따로 열 만들기\n",
    "for label in \"MFI\":\n",
    "    data[label] = data[\"Sex\"] == label\n",
    "data.drop('Sex', axis=1, inplace=True)\n",
    "\n",
    "# X,y 데이터 선택\n",
    "y = data.Rings.values\n",
    "data.drop('Rings', axis=1, inplace=True)\n",
    "\n",
    "X = data.values.astype(float)"
   ]
  },
  {
   "cell_type": "markdown",
   "metadata": {
    "id": "oRS_pBggjhWe"
   },
   "source": [
    "## 2) train/test 분리\n",
    ": 테스트 셋과 데이터 셋을 7:3 비율로 분리하세요."
   ]
  },
  {
   "cell_type": "code",
   "execution_count": 3,
   "metadata": {
    "id": "MCos735FjRUg"
   },
   "outputs": [],
   "source": [
    "# 필요한 모듈 불러오기\n",
    "from sklearn.model_selection import train_test_split"
   ]
  },
  {
   "cell_type": "code",
   "execution_count": 4,
   "metadata": {
    "id": "c2GBJgtRj0Ke"
   },
   "outputs": [],
   "source": [
    "# train과 test set 분리 (train:test = 7:3 비율로)\n",
    "X_train, X_test, y_train, y_test = train_test_split(X, y, test_size=0.3, random_state=0)"
   ]
  },
  {
   "cell_type": "markdown",
   "metadata": {
    "id": "bOxHN7dsj3xP"
   },
   "source": [
    "## 3) 릿지 모델을 이용한 모델링\n",
    ": 릿지 모델을 이용하여 전복의 나이를 예측해 보고 결과를 평가해 보세요."
   ]
  },
  {
   "cell_type": "markdown",
   "metadata": {
    "id": "SpLjzL0yks5X"
   },
   "source": [
    " 3-1) 릿지모델 생성, 교차검증, 평가에 필요한 모듈을 불러오세요."
   ]
  },
  {
   "cell_type": "code",
   "execution_count": 12,
   "metadata": {
    "id": "rs5OSSjLj226"
   },
   "outputs": [],
   "source": [
    "#필요한 모듈 불러오기\n",
    "from sklearn.linear_model import Ridge\n",
    "from sklearn.model_selection import cross_val_score\n",
    "from sklearn.metrics import mean_squared_error\n",
    "import numpy as np"
   ]
  },
  {
   "cell_type": "markdown",
   "metadata": {
    "id": "-KTiaLjilHXT"
   },
   "source": [
    "3-2) 릿지 모델을 생성하고 훈련하여 MSE와 RMSE를 구하세요. 릿지 모델 생성 시  alpha는 0.3으로 설정합니다. (교차 검증 하지 않습니다.)"
   ]
  },
  {
   "cell_type": "code",
   "execution_count": 10,
   "metadata": {
    "executionInfo": {
     "elapsed": 331,
     "status": "ok",
     "timestamp": 1629566673199,
     "user": {
      "displayName": "­정서우(자연과학대학 통계학과)",
      "photoUrl": "",
      "userId": "08205341741282440459"
     },
     "user_tz": -540
    },
    "id": "eK37aNO5lOT-"
   },
   "outputs": [
    {
     "name": "stdout",
     "output_type": "stream",
     "text": [
      "5.0131586861009545 2.239008415817358\n"
     ]
    }
   ],
   "source": [
    "#릿지모델 생성 및 훈련\n",
    "ridge = Ridge(alpha=0.3)\n",
    "\n",
    "#예측값 구하기\n",
    "ridge.fit(X_train, y_train)\n",
    "y_pred = ridge.predict(X_test)\n",
    "\n",
    "#MSE와 RMSE구하기\n",
    "MSE = mean_squared_error(y_test, y_pred)\n",
    "RMSE = np.sqrt(MSE)\n",
    "print(MSE, RMSE)"
   ]
  },
  {
   "cell_type": "markdown",
   "metadata": {
    "id": "MK2LACYtliyO"
   },
   "source": [
    "3-3) 교차검증을 이용하여 0, 0.1, 1, 10, 100 중  모델 성능이 가장 좋게 나오는 (rmse가 최소가 되는) alpha를 구하세요. "
   ]
  },
  {
   "cell_type": "code",
   "execution_count": 11,
   "metadata": {
    "id": "0Bf_TsDomO4i"
   },
   "outputs": [],
   "source": [
    "# 주어진 alpha\n",
    "alphas=[0, 0.1, 1, 10, 100]"
   ]
  },
  {
   "cell_type": "code",
   "execution_count": 13,
   "metadata": {
    "executionInfo": {
     "elapsed": 347,
     "status": "ok",
     "timestamp": 1629566668278,
     "user": {
      "displayName": "­정서우(자연과학대학 통계학과)",
      "photoUrl": "",
      "userId": "08205341741282440459"
     },
     "user_tz": -540
    },
    "id": "n7Opz8bomXpM"
   },
   "outputs": [
    {
     "name": "stdout",
     "output_type": "stream",
     "text": [
      "alpha 0일 때 5 folds의 평균 RMSE: 2.193\n",
      "alpha 0.1일 때 5 folds의 평균 RMSE: 2.189\n",
      "alpha 1일 때 5 folds의 평균 RMSE: 2.192\n",
      "alpha 10일 때 5 folds의 평균 RMSE: 2.336\n",
      "alpha 100일 때 5 folds의 평균 RMSE: 2.604\n"
     ]
    }
   ],
   "source": [
    "#alphas list 값을 반복하면서 alpha에 따른 평균 rmse를 구함\n",
    "for alpha in alphas:\n",
    "    ridge = Ridge(alpha=alpha)\n",
    "\n",
    "  #cross_val_score를 이용해 5 폴드의 평균 RMSE를 계산\n",
    "    neg_mse_scores = cross_val_score(ridge, X_train, y_train, scoring='neg_mean_squared_error', cv=5)\n",
    "    avg_rmse = np.mean(np.sqrt(-1*neg_mse_scores))\n",
    "    print('alpha {0}일 때 5 folds의 평균 RMSE: {1:.3f}'.format(alpha, avg_rmse))"
   ]
  },
  {
   "cell_type": "markdown",
   "metadata": {
    "id": "LpPsOGdcm5ch"
   },
   "source": [
    "## 4) XGBRegressor을 이용한 모델링\n",
    ": XGBRegressor 모델을 이용하여 전복의 나이를 예측해 보고 결과를 평가해 보세요."
   ]
  },
  {
   "cell_type": "markdown",
   "metadata": {
    "id": "mUIF11POny1k"
   },
   "source": [
    "4-1) XGBRegressor 훈련, 평가에 필요한 모듈을 불러오세요."
   ]
  },
  {
   "cell_type": "code",
   "execution_count": 14,
   "metadata": {
    "id": "0tB7r-_HnJen"
   },
   "outputs": [],
   "source": [
    "# 필요한 모듈 임포트\n",
    "from xgboost import XGBRegressor"
   ]
  },
  {
   "cell_type": "markdown",
   "metadata": {
    "id": "_Gl2TyADoC2S"
   },
   "source": [
    "4-2) XGBregressor 모델을 생성하고 훈련하여 MSE와 RMSE를 구하세요."
   ]
  },
  {
   "cell_type": "code",
   "execution_count": 15,
   "metadata": {
    "executionInfo": {
     "elapsed": 6,
     "status": "ok",
     "timestamp": 1629566624422,
     "user": {
      "displayName": "­정서우(자연과학대학 통계학과)",
      "photoUrl": "",
      "userId": "08205341741282440459"
     },
     "user_tz": -540
    },
    "id": "KM5wcdkuoFk2"
   },
   "outputs": [
    {
     "name": "stdout",
     "output_type": "stream",
     "text": [
      "5.362716518603364 2.315753984904995\n"
     ]
    }
   ],
   "source": [
    "#모델 생성 및 훈련\n",
    "xgbr = XGBRegressor()\n",
    "\n",
    "#예측값 구하기\n",
    "xgbr.fit(X_train, y_train)\n",
    "y_xgbr_pred = xgbr.predict(X_test)\n",
    "\n",
    "#MSE와 RMSE 구하기\n",
    "MSE_xgbr = mean_squared_error(y_test, y_xgbr_pred)\n",
    "RMSE_xgbr = np.sqrt(MSE_xgbr)\n",
    "print(MSE_xgbr, RMSE_xgbr)"
   ]
  },
  {
   "cell_type": "markdown",
   "metadata": {
    "id": "7fp_617QpGIK"
   },
   "source": [
    "# **2. 로지스틱 회귀분석**\n",
    "load_wine() 함수를 이용하여 와인 데이터를 다항분류하는 로지스틱 회귀모델을 생성하세요. "
   ]
  },
  {
   "cell_type": "code",
   "execution_count": 16,
   "metadata": {
    "id": "0s6eNftxpOku"
   },
   "outputs": [],
   "source": [
    "# 필요한 모듈 불러오기\n",
    "from sklearn.datasets import load_wine\n",
    "from sklearn.model_selection import train_test_split\n",
    "from sklearn.linear_model import LogisticRegression\n",
    "from sklearn import metrics"
   ]
  },
  {
   "cell_type": "markdown",
   "metadata": {
    "id": "COFC2gmIpWv8"
   },
   "source": [
    "# 1) 데이터 불러오기 및 변수 선택"
   ]
  },
  {
   "cell_type": "code",
   "execution_count": 17,
   "metadata": {
    "id": "oyGjyyGWpgOn"
   },
   "outputs": [],
   "source": [
    "wine = load_wine()\n",
    "\n",
    "wine_x = wine.data # x변수 \n",
    "wine_y = wine.target # y변수"
   ]
  },
  {
   "cell_type": "markdown",
   "metadata": {
    "id": "wwppN1b-pjAq"
   },
   "source": [
    "# 2) train/test 셋 분리"
   ]
  },
  {
   "cell_type": "code",
   "execution_count": 18,
   "metadata": {
    "executionInfo": {
     "elapsed": 500,
     "status": "ok",
     "timestamp": 1629566641905,
     "user": {
      "displayName": "­정서우(자연과학대학 통계학과)",
      "photoUrl": "",
      "userId": "08205341741282440459"
     },
     "user_tz": -540
    },
    "id": "WG0_2HQUpiVQ"
   },
   "outputs": [
    {
     "name": "stdout",
     "output_type": "stream",
     "text": [
      "(124, 13)\n",
      "(124,)\n"
     ]
    }
   ],
   "source": [
    "x_train, x_test, y_train, y_test = train_test_split(wine_x, wine_y, test_size=0.3, random_state=123)\n",
    "\n",
    "print(x_train.shape )\n",
    "print(y_train.shape )"
   ]
  },
  {
   "cell_type": "markdown",
   "metadata": {
    "id": "at-bYN42rsUK"
   },
   "source": [
    "# 3) 로지스틱 회귀모델을 이용한 모델링"
   ]
  },
  {
   "cell_type": "markdown",
   "metadata": {
    "id": "zd0Lf4Ejr_WQ"
   },
   "source": [
    "3-1) 로지스틱 회귀모델을 생성하여 훈련하세요."
   ]
  },
  {
   "cell_type": "code",
   "execution_count": 21,
   "metadata": {
    "executionInfo": {
     "elapsed": 378,
     "status": "ok",
     "timestamp": 1629566648882,
     "user": {
      "displayName": "­정서우(자연과학대학 통계학과)",
      "photoUrl": "",
      "userId": "08205341741282440459"
     },
     "user_tz": -540
    },
    "id": "5kaHD1nJpo9c"
   },
   "outputs": [
    {
     "data": {
      "text/plain": [
       "LogisticRegression()"
      ]
     },
     "execution_count": 21,
     "metadata": {},
     "output_type": "execute_result"
    }
   ],
   "source": [
    "from sklearn.linear_model import LogisticRegression\n",
    "lr_clf = LogisticRegression()\n",
    "lr_clf.fit(x_train, y_train)"
   ]
  },
  {
   "cell_type": "markdown",
   "metadata": {
    "id": "5icNrKefsR8A"
   },
   "source": [
    "3-2) 회귀 모델의 기울기와 절편을 구하세요."
   ]
  },
  {
   "cell_type": "code",
   "execution_count": 23,
   "metadata": {
    "executionInfo": {
     "elapsed": 367,
     "status": "ok",
     "timestamp": 1629566651836,
     "user": {
      "displayName": "­정서우(자연과학대학 통계학과)",
      "photoUrl": "",
      "userId": "08205341741282440459"
     },
     "user_tz": -540
    },
    "id": "fReIKxgLsU0_"
   },
   "outputs": [
    {
     "data": {
      "text/plain": [
       "array([[-1.99751171e-01,  3.65450563e-01,  1.49472117e-01,\n",
       "        -1.88027150e-01, -2.28495626e-02,  1.95456490e-01,\n",
       "         4.66701278e-01, -1.66796665e-02,  8.23897125e-02,\n",
       "         6.75011503e-02, -1.92621860e-02,  2.94915757e-01,\n",
       "         7.42524018e-03],\n",
       "       [ 5.96475842e-01, -7.88672615e-01, -1.26181433e-01,\n",
       "         2.12254650e-01, -1.13504787e-02,  3.15785921e-01,\n",
       "         3.55147986e-01,  3.34675587e-02,  2.79035677e-01,\n",
       "        -1.17202477e+00,  2.61165684e-01,  4.64731557e-01,\n",
       "        -8.33633170e-03],\n",
       "       [-3.96724671e-01,  4.23222053e-01, -2.32906837e-02,\n",
       "        -2.42275003e-02,  3.42000413e-02, -5.11242411e-01,\n",
       "        -8.21849264e-01, -1.67878922e-02, -3.61425389e-01,\n",
       "         1.10452362e+00, -2.41903498e-01, -7.59647314e-01,\n",
       "         9.11091522e-04]])"
      ]
     },
     "execution_count": 23,
     "metadata": {},
     "output_type": "execute_result"
    }
   ],
   "source": [
    "#기울기\n",
    "lr_clf.coef_"
   ]
  },
  {
   "cell_type": "code",
   "execution_count": 25,
   "metadata": {
    "executionInfo": {
     "elapsed": 386,
     "status": "ok",
     "timestamp": 1629566654775,
     "user": {
      "displayName": "­정서우(자연과학대학 통계학과)",
      "photoUrl": "",
      "userId": "08205341741282440459"
     },
     "user_tz": -540
    },
    "id": "tbWm0jEnsbdJ"
   },
   "outputs": [
    {
     "data": {
      "text/plain": [
       "array([-0.04177837,  0.09551046, -0.05373209])"
      ]
     },
     "execution_count": 25,
     "metadata": {},
     "output_type": "execute_result"
    }
   ],
   "source": [
    "#절편\n",
    "lr_clf.intercept_"
   ]
  },
  {
   "cell_type": "markdown",
   "metadata": {
    "id": "Bq9ocTsystff"
   },
   "source": [
    "3-3) 모델의 정확도를 구하세요."
   ]
  },
  {
   "cell_type": "code",
   "execution_count": 27,
   "metadata": {
    "executionInfo": {
     "elapsed": 341,
     "status": "ok",
     "timestamp": 1629566659100,
     "user": {
      "displayName": "­정서우(자연과학대학 통계학과)",
      "photoUrl": "",
      "userId": "08205341741282440459"
     },
     "user_tz": -540
    },
    "id": "nQcUKZyOsy3J"
   },
   "outputs": [
    {
     "name": "stdout",
     "output_type": "stream",
     "text": [
      "0.9629629629629629\n"
     ]
    }
   ],
   "source": [
    "#모델의 예측값 구하기\n",
    "y_wine_pred = lr_clf.predict(x_test)\n",
    "\n",
    "#모델의 정확도 구하기\n",
    "from sklearn.metrics import accuracy_score\n",
    "print(accuracy_score(y_test, y_wine_pred))\n"
   ]
  }
 ],
 "metadata": {
  "colab": {
   "authorship_tag": "ABX9TyMfbajeVsntWKfRzVpXDb9r",
   "collapsed_sections": [],
   "name": "회귀2.ipynb",
   "provenance": []
  },
  "kernelspec": {
   "display_name": "Python 3",
   "language": "python",
   "name": "python3"
  },
  "language_info": {
   "codemirror_mode": {
    "name": "ipython",
    "version": 3
   },
   "file_extension": ".py",
   "mimetype": "text/x-python",
   "name": "python",
   "nbconvert_exporter": "python",
   "pygments_lexer": "ipython3",
   "version": "3.8.5"
  }
 },
 "nbformat": 4,
 "nbformat_minor": 1
}
